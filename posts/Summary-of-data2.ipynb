{
 "cells": [
  {
   "cell_type": "markdown",
   "metadata": {},
   "source": [
    "# Summary of Data (Part 2)\n",
    "\n",
    "This post suggests the revised functionalites offered by the `summary` function described previously in the [Summary of Data](https://jqgoh.github.io/summary-of-data.html). You could download a simple set of data 'beijing_201802_201803_aq.csv' from [KDD CUP of Fresh Air](https://biendata.com/competition/kdd_2018/), which provides air qualities measured by the weather stations in Beijing during February, March 2018. This data set will be used throughout this post.\n",
    "\n",
    "The following mainly presents two functionalities:  \n",
    " 1. **warn_missing** - Describe the proportion of missing values\n",
    " 2. **summary** - Provide the descriptive summary of data distribution. The visualization of data distribution can exclude outliers (*filter_outlier=True*) specified by a set of quantiles. \n",
    " \n",
    "You could also download the copy of this jupyter notebook at: [Summary-of-data2.ipynb](https://github.com/JQGoh/jqlearning/blob/master/posts/Summary-of-data2.ipynb)"
   ]
  },
  {
   "cell_type": "code",
   "execution_count": 1,
   "metadata": {
    "collapsed": false,
    "run_control": {
     "frozen": false,
     "read_only": false
    }
   },
   "outputs": [],
   "source": [
    "# Import functions and load data into a dataframe\n",
    "import sys\n",
    "sys.path.append(\"../\")\n",
    "import pandas as pd\n",
    "from script.preprocess import summary, warn_missing\n",
    "\n",
    "kwargs = {\"parse_dates\": [\"utc_time\"]}\n",
    "bj_aq_df = pd.read_csv(\"beijing_201802_201803_aq.csv\", **kwargs)"
   ]
  },
  {
   "cell_type": "code",
   "execution_count": 2,
   "metadata": {
    "collapsed": false,
    "run_control": {
     "frozen": false,
     "read_only": false
    }
   },
   "outputs": [
    {
     "name": "stdout",
     "output_type": "stream",
     "text": [
      "Warning: Column PM2.5 has (6.2%) 3070 missing values in beijing_201802_201803_aq.csv!\n",
      "Warning: Column PM10 has (26.1%) 12912 missing values in beijing_201802_201803_aq.csv!\n",
      "Warning: Column NO2 has (6.2%) 3069 missing values in beijing_201802_201803_aq.csv!\n",
      "Warning: Column CO has (6.7%) 3331 missing values in beijing_201802_201803_aq.csv!\n",
      "Warning: Column O3 has (6.7%) 3311 missing values in beijing_201802_201803_aq.csv!\n",
      "Warning: Column SO2 has (6.3%) 3116 missing values in beijing_201802_201803_aq.csv!\n"
     ]
    }
   ],
   "source": [
    "warn_missing(bj_aq_df, \"beijing_201802_201803_aq.csv\")"
   ]
  },
  {
   "cell_type": "markdown",
   "metadata": {},
   "source": [
    "The following summary considers the top 1% and bottom 1% of given numeric data as outliers. `summary` function offers us a simple idea on the type of data and the numeric data distribution."
   ]
  },
  {
   "cell_type": "code",
   "execution_count": 2,
   "metadata": {
    "collapsed": false,
    "run_control": {
     "frozen": false,
     "read_only": false
    }
   },
   "outputs": [
    {
     "name": "stdout",
     "output_type": "stream",
     "text": [
      "--------------------------------------------------------------------------------\n",
      "********************    Begin of the summary of text data   ********************\n",
      "--------------------------------------------------------------------------------\n",
      "count          49420\n",
      "unique            35\n",
      "top       tiantan_aq\n",
      "freq            1412\n",
      "Name: stationId, dtype: object\n",
      "\n",
      "\n",
      "count                   49420\n",
      "unique                   1412\n",
      "top       2018-02-23 16:00:00\n",
      "freq                       35\n",
      "first     2018-01-31 16:00:00\n",
      "last      2018-03-31 15:00:00\n",
      "Name: utc_time, dtype: object\n",
      "\n",
      "\n",
      "--------------------------------------------------------------------------------\n",
      "********************    End of the summary of text data     ********************\n",
      "--------------------------------------------------------------------------------\n"
     ]
    },
    {
     "data": {
      "image/png": "[encoded data removed]",
      "text/plain": [
       "<matplotlib.figure.Figure at 0x111772d68>"
      ]
     },
     "metadata": {},
     "output_type": "display_data"
    }
   ],
   "source": [
    "summary(bj_aq_df, quantile=(0.01, 0.99), outlier_as_nan=True, filter_outlier=True)"
   ]
  },
  {
   "cell_type": "markdown",
   "metadata": {},
   "source": [
    "User can also set *outlier_as_nan=False* parameter to display the outliers of data. This setting basically set the non-outliers as NaN (not a number). This offers us the convenience to understand the bigger picture of our available data before we proceed further to uncover additional insights!"
   ]
  },
  {
   "cell_type": "code",
   "execution_count": 3,
   "metadata": {
    "collapsed": false,
    "run_control": {
     "frozen": false,
     "read_only": false
    }
   },
   "outputs": [
    {
     "name": "stdout",
     "output_type": "stream",
     "text": [
      "--------------------------------------------------------------------------------\n",
      "********************    Begin of the summary of text data   ********************\n",
      "--------------------------------------------------------------------------------\n",
      "count          49420\n",
      "unique            35\n",
      "top       tiantan_aq\n",
      "freq            1412\n",
      "Name: stationId, dtype: object\n",
      "\n",
      "\n",
      "count                   49420\n",
      "unique                   1412\n",
      "top       2018-02-23 16:00:00\n",
      "freq                       35\n",
      "first     2018-01-31 16:00:00\n",
      "last      2018-03-31 15:00:00\n",
      "Name: utc_time, dtype: object\n",
      "\n",
      "\n",
      "--------------------------------------------------------------------------------\n",
      "********************    End of the summary of text data     ********************\n",
      "--------------------------------------------------------------------------------\n"
     ]
    },
    {
     "data": {
      "image/png": "[encoded data removed]",
      "text/plain": [
       "<matplotlib.figure.Figure at 0x1190adf28>"
      ]
     },
     "metadata": {},
     "output_type": "display_data"
    }
   ],
   "source": [
    "summary(bj_aq_df, quantile=(0.01, 0.99), outlier_as_nan=False, filter_outlier=True)"
   ]
  }
 ],
 "metadata": {
  "anaconda-cloud": {},
  "kernelspec": {
   "display_name": "Python [default]",
   "language": "python",
   "name": "python3"
  },
  "language_info": {
   "codemirror_mode": {
    "name": "ipython",
    "version": 3
   },
   "file_extension": ".py",
   "mimetype": "text/x-python",
   "name": "python",
   "nbconvert_exporter": "python",
   "pygments_lexer": "ipython3",
   "version": "3.5.2"
  }
 },
 "nbformat": 4,
 "nbformat_minor": 2
}
